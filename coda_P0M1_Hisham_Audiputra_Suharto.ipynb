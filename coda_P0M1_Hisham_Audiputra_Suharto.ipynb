{
 "cells": [
  {
   "cell_type": "markdown",
   "metadata": {},
   "source": [
    "# 1. Pengenalan"
   ]
  },
  {
   "cell_type": "markdown",
   "metadata": {},
   "source": [
    "Milestone 1\n",
    "\n",
    "Nama  : Hisham Audiputra Suharto\n",
    "Batch : CODA-RMT-006\n",
    "\n",
    "Program ini untuk fungsi ETL dengan menggunakan Webscraping\n",
    "\n",
    "Website yang di gunakan adalah  : https://www.bhinneka.com/\n",
    "\n",
    "Jadi Fungsi Program ini adalah untuk mengambil data dari website Bhineka Khusu Untuk Produk Storage, yang dimana yang di ambil adalah nama produknya, Harga dari produknya, cicilan bulanan untuk harga produknya dan Link spesifict untuk ke produk yang di inginkan."
   ]
  },
  {
   "cell_type": "markdown",
   "metadata": {},
   "source": [
    "# 2 .Import Library"
   ]
  },
  {
   "cell_type": "code",
   "execution_count": 11,
   "metadata": {},
   "outputs": [],
   "source": [
    "import pandas as pd\n",
    "from bs4 import BeautifulSoup as bs\n",
    "from selenium import webdriver as wb\n",
    "import time"
   ]
  },
  {
   "cell_type": "markdown",
   "metadata": {},
   "source": [
    "# 3. Extract Data"
   ]
  },
  {
   "cell_type": "markdown",
   "metadata": {},
   "source": [
    "## 3.1 Extract Data dari 3 page Website Bhineka Khusus untuk produk Storage"
   ]
  },
  {
   "cell_type": "code",
   "execution_count": null,
   "metadata": {},
   "outputs": [],
   "source": [
    "# membuat drive untuk chrome\n",
    "driver = wb.Chrome()\n",
    "# Inisialisasi untuk variable penamping webscraping\n",
    "List_Nama_Produk = []   \n",
    "List_Cicilan_Produk = []\n",
    "List_Harga_Produk = []\n",
    "List_Link_Produk = []\n",
    "# looping untuk web scarping supaya bisa pindak dari page ke page\n",
    "for angka in range(1,4):\n",
    "    # ubah variable page sesuai dengan looping {angka} itu akan di ganti dengan loopigan range 1 - 3 (4 - 1)\n",
    "    web_link = f'https://www.bhinneka.com/jual-storage/rM1ya1P?page={angka}'\n",
    "    # akses link urlnya\n",
    "    driver.get(web_link)\n",
    "    # delay untuk menunggu pagenya fully load memilih 10 detik karena itu cukup lama untuk pagenya fully load\n",
    "    time.sleep(10)\n",
    "    # mengambil source code dari pagenya \n",
    "    html = driver.page_source\n",
    "    # mengformat dalam bentuk html source code dari pagenya\n",
    "    soup = bs(html, 'html.parser')\n",
    "    # menampung file containernya yang di mana semua element yang ingin kita ambil berada\n",
    "    storage = soup.find_all('div', {'class':'o_wsale_product_grid_wrapper position-relative h-100'})\n",
    "    # looping berdasarkan jumlah container\n",
    "    for data in storage:\n",
    "            # gunakan try and except dimana program akan berjalan dan mengambil element yang kita ingin kan\n",
    "            # kalo tidak ada akan generate error dan pindah except\n",
    "            try:\n",
    "                # menamampung value dari element yang menyimpan nama produk\n",
    "                List_Nama_Produk.append(data.find('a', {'itemprop':'name'}).get_text())\n",
    "            except:\n",
    "                # kalo tidak ketemu akan di gantikan jadi none (null value)\n",
    "                List_Nama_Produk.append(None)\n",
    "            try:\n",
    "                # menamampung value dari element yang menyimpan Cicilan Produk\n",
    "                List_Cicilan_Produk.append(data.find('span', {'class':'bmd-installment'}).get_text())\n",
    "            except:\n",
    "                # kalo tidak ketemu akan di gantikan jadi none (null value)\n",
    "                List_Cicilan_Produk.append(None)\n",
    "            try:\n",
    "                # menamampung value dari element yang menyimpan Harga Produk\n",
    "                List_Harga_Produk.append(data.find('span', {'itemprop':'price'}).get_text())\n",
    "            except:\n",
    "                # kalo tidak ketemu akan di gantikan jadi none (null value)\n",
    "                List_Harga_Produk.append(None)\n",
    "            try:\n",
    "                List_Link_Produk.append('https://www.bhinneka.com/' + data.find('a', {'itemprop':'url'})['href'])\n",
    "                # menamampung value dari element yang menyimpan Link_Produk\n",
    "                # di karenakan waktu value href di ambil hanya ada endpoint saja tidak ada base url maka perlu di tambahkan base urlnya\n",
    "            except:\n",
    "                # kalo tidak ketemu akan di gantikan jadi none (null value)\n",
    "                List_Link_Produk.append(None)\n",
    "driver.close()"
   ]
  },
  {
   "cell_type": "markdown",
   "metadata": {},
   "source": [
    "## 3.2 Masukan data data yang sudah di tampung ke dalam dataframe"
   ]
  },
  {
   "cell_type": "code",
   "execution_count": null,
   "metadata": {},
   "outputs": [
    {
     "data": {
      "text/html": [
       "<div>\n",
       "<style scoped>\n",
       "    .dataframe tbody tr th:only-of-type {\n",
       "        vertical-align: middle;\n",
       "    }\n",
       "\n",
       "    .dataframe tbody tr th {\n",
       "        vertical-align: top;\n",
       "    }\n",
       "\n",
       "    .dataframe thead th {\n",
       "        text-align: right;\n",
       "    }\n",
       "</style>\n",
       "<table border=\"1\" class=\"dataframe\">\n",
       "  <thead>\n",
       "    <tr style=\"text-align: right;\">\n",
       "      <th></th>\n",
       "      <th>Nama_Produk</th>\n",
       "      <th>Cicilan_Produk_Perbulan</th>\n",
       "      <th>Harga_Produk</th>\n",
       "      <th>Link_Produk</th>\n",
       "    </tr>\n",
       "  </thead>\n",
       "  <tbody>\n",
       "    <tr>\n",
       "      <th>0</th>\n",
       "      <td>FUJIFILM LTO-8 Data Cartridge (12TB - 30TB) wi...</td>\n",
       "      <td>Cicilan Rp. 108.250/bln</td>\n",
       "      <td>1299000.0</td>\n",
       "      <td>https://www.bhinneka.com//fujifilm-lto-8-data-...</td>\n",
       "    </tr>\n",
       "    <tr>\n",
       "      <th>1</th>\n",
       "      <td>HP LTO5 Ultrium RW Bar Code Label Pack Q2011A</td>\n",
       "      <td>Cicilan Rp. 79.833/bln</td>\n",
       "      <td>958000.0</td>\n",
       "      <td>https://www.bhinneka.com//hp-lto5-ultrium-rw-b...</td>\n",
       "    </tr>\n",
       "    <tr>\n",
       "      <th>2</th>\n",
       "      <td>DELL EqualLogic PS6610ES</td>\n",
       "      <td>Cicilan Rp. 157.712.500/bln</td>\n",
       "      <td>1892550000.0</td>\n",
       "      <td>https://www.bhinneka.com//dell-equallogic-ps66...</td>\n",
       "    </tr>\n",
       "    <tr>\n",
       "      <th>3</th>\n",
       "      <td>HPE MSA 2060 R0Q74A (7.2TB)</td>\n",
       "      <td>Cicilan Rp. 16.583.333/bln</td>\n",
       "      <td>199000000.0</td>\n",
       "      <td>https://www.bhinneka.com//hpe-msa-2060-r0q74a-...</td>\n",
       "    </tr>\n",
       "    <tr>\n",
       "      <th>4</th>\n",
       "      <td>HPE Nimble Storage AF40 All Flash Dual Control...</td>\n",
       "      <td>Cicilan Rp. 476.879.583/bln</td>\n",
       "      <td>5722555000.0</td>\n",
       "      <td>https://www.bhinneka.com//hpe-nimble-storage-a...</td>\n",
       "    </tr>\n",
       "    <tr>\n",
       "      <th>...</th>\n",
       "      <td>...</td>\n",
       "      <td>...</td>\n",
       "      <td>...</td>\n",
       "      <td>...</td>\n",
       "    </tr>\n",
       "    <tr>\n",
       "      <th>115</th>\n",
       "      <td>HP LTO-6 Ultrium RW Bar Code Label Pack Q2013A</td>\n",
       "      <td>Cicilan Rp. 74.542/bln</td>\n",
       "      <td>894500.0</td>\n",
       "      <td>https://www.bhinneka.com//hp-lto-6-ultrium-rw-...</td>\n",
       "    </tr>\n",
       "    <tr>\n",
       "      <th>116</th>\n",
       "      <td>DELL EMC Storage SC7020F 3Ux30 Drive Storage A...</td>\n",
       "      <td>Cicilan Rp. 584.969.667/bln</td>\n",
       "      <td>7019636000.0</td>\n",
       "      <td>https://www.bhinneka.com//dell-emc-storage-sc7...</td>\n",
       "    </tr>\n",
       "    <tr>\n",
       "      <th>117</th>\n",
       "      <td>HPE 3PAR 8440 2N+SW Storage (36x1.2TB SAS)</td>\n",
       "      <td>Cicilan Rp. 414.058.292/bln</td>\n",
       "      <td>4968699500.0</td>\n",
       "      <td>https://www.bhinneka.com//hpe-3par-8440-2n-sw-...</td>\n",
       "    </tr>\n",
       "    <tr>\n",
       "      <th>118</th>\n",
       "      <td>LENOVO ThinkSystem DE2000H 10GBASE-T Hybrid Fl...</td>\n",
       "      <td>Cicilan Rp. 9.742.042/bln</td>\n",
       "      <td>116904500.0</td>\n",
       "      <td>https://www.bhinneka.com//lenovo-thinksystem-d...</td>\n",
       "    </tr>\n",
       "    <tr>\n",
       "      <th>119</th>\n",
       "      <td>LENOVO ThinkSystem DE2000H iSCSI Hybrid Flash ...</td>\n",
       "      <td>Cicilan Rp. 8.619.292/bln</td>\n",
       "      <td>103431500.0</td>\n",
       "      <td>https://www.bhinneka.com//lenovo-thinksystem-d...</td>\n",
       "    </tr>\n",
       "  </tbody>\n",
       "</table>\n",
       "<p>120 rows × 4 columns</p>\n",
       "</div>"
      ],
      "text/plain": [
       "                                           Nama_Produk  \\\n",
       "0    FUJIFILM LTO-8 Data Cartridge (12TB - 30TB) wi...   \n",
       "1        HP LTO5 Ultrium RW Bar Code Label Pack Q2011A   \n",
       "2                             DELL EqualLogic PS6610ES   \n",
       "3                          HPE MSA 2060 R0Q74A (7.2TB)   \n",
       "4    HPE Nimble Storage AF40 All Flash Dual Control...   \n",
       "..                                                 ...   \n",
       "115     HP LTO-6 Ultrium RW Bar Code Label Pack Q2013A   \n",
       "116  DELL EMC Storage SC7020F 3Ux30 Drive Storage A...   \n",
       "117         HPE 3PAR 8440 2N+SW Storage (36x1.2TB SAS)   \n",
       "118  LENOVO ThinkSystem DE2000H 10GBASE-T Hybrid Fl...   \n",
       "119  LENOVO ThinkSystem DE2000H iSCSI Hybrid Flash ...   \n",
       "\n",
       "         Cicilan_Produk_Perbulan  Harga_Produk  \\\n",
       "0        Cicilan Rp. 108.250/bln     1299000.0   \n",
       "1         Cicilan Rp. 79.833/bln      958000.0   \n",
       "2    Cicilan Rp. 157.712.500/bln  1892550000.0   \n",
       "3     Cicilan Rp. 16.583.333/bln   199000000.0   \n",
       "4    Cicilan Rp. 476.879.583/bln  5722555000.0   \n",
       "..                           ...           ...   \n",
       "115       Cicilan Rp. 74.542/bln      894500.0   \n",
       "116  Cicilan Rp. 584.969.667/bln  7019636000.0   \n",
       "117  Cicilan Rp. 414.058.292/bln  4968699500.0   \n",
       "118    Cicilan Rp. 9.742.042/bln   116904500.0   \n",
       "119    Cicilan Rp. 8.619.292/bln   103431500.0   \n",
       "\n",
       "                                           Link_Produk  \n",
       "0    https://www.bhinneka.com//fujifilm-lto-8-data-...  \n",
       "1    https://www.bhinneka.com//hp-lto5-ultrium-rw-b...  \n",
       "2    https://www.bhinneka.com//dell-equallogic-ps66...  \n",
       "3    https://www.bhinneka.com//hpe-msa-2060-r0q74a-...  \n",
       "4    https://www.bhinneka.com//hpe-nimble-storage-a...  \n",
       "..                                                 ...  \n",
       "115  https://www.bhinneka.com//hp-lto-6-ultrium-rw-...  \n",
       "116  https://www.bhinneka.com//dell-emc-storage-sc7...  \n",
       "117  https://www.bhinneka.com//hpe-3par-8440-2n-sw-...  \n",
       "118  https://www.bhinneka.com//lenovo-thinksystem-d...  \n",
       "119  https://www.bhinneka.com//lenovo-thinksystem-d...  \n",
       "\n",
       "[120 rows x 4 columns]"
      ]
     },
     "execution_count": 45,
     "metadata": {},
     "output_type": "execute_result"
    }
   ],
   "source": [
    "# Pembuatan Data Frame dengan menggunaka keys yang sesuai ex:  Data_Produk['Nama_Produk'] = List_Nama_Produk\n",
    "# alasanya supaya nanti gampang di baca dan mengerti\n",
    "Data_Produk = pd.DataFrame()\n",
    "Data_Produk['Nama_Produk'] = List_Nama_Produk\n",
    "Data_Produk['Cicilan_Produk_Perbulan'] = List_Cicilan_Produk\n",
    "Data_Produk['Harga_Produk'] = List_Harga_Produk\n",
    "Data_Produk['Link_Produk'] = List_Link_Produk\n",
    "Data_Produk"
   ]
  },
  {
   "cell_type": "markdown",
   "metadata": {},
   "source": [
    "## 3.3 pilih 5 data teratas dalam data frame "
   ]
  },
  {
   "cell_type": "code",
   "execution_count": null,
   "metadata": {},
   "outputs": [
    {
     "data": {
      "text/html": [
       "<div>\n",
       "<style scoped>\n",
       "    .dataframe tbody tr th:only-of-type {\n",
       "        vertical-align: middle;\n",
       "    }\n",
       "\n",
       "    .dataframe tbody tr th {\n",
       "        vertical-align: top;\n",
       "    }\n",
       "\n",
       "    .dataframe thead th {\n",
       "        text-align: right;\n",
       "    }\n",
       "</style>\n",
       "<table border=\"1\" class=\"dataframe\">\n",
       "  <thead>\n",
       "    <tr style=\"text-align: right;\">\n",
       "      <th></th>\n",
       "      <th>Nama_Produk</th>\n",
       "      <th>Cicilan_Produk_Perbulan</th>\n",
       "      <th>Harga_Produk</th>\n",
       "      <th>Link_Produk</th>\n",
       "    </tr>\n",
       "  </thead>\n",
       "  <tbody>\n",
       "    <tr>\n",
       "      <th>0</th>\n",
       "      <td>FUJIFILM LTO-8 Data Cartridge (12TB - 30TB) wi...</td>\n",
       "      <td>Cicilan Rp. 108.250/bln</td>\n",
       "      <td>1.299000e+06</td>\n",
       "      <td>https://www.bhinneka.com//fujifilm-lto-8-data-...</td>\n",
       "    </tr>\n",
       "    <tr>\n",
       "      <th>1</th>\n",
       "      <td>HP LTO5 Ultrium RW Bar Code Label Pack Q2011A</td>\n",
       "      <td>Cicilan Rp. 79.833/bln</td>\n",
       "      <td>9.580000e+05</td>\n",
       "      <td>https://www.bhinneka.com//hp-lto5-ultrium-rw-b...</td>\n",
       "    </tr>\n",
       "    <tr>\n",
       "      <th>2</th>\n",
       "      <td>DELL EqualLogic PS6610ES</td>\n",
       "      <td>Cicilan Rp. 157.712.500/bln</td>\n",
       "      <td>1.892550e+09</td>\n",
       "      <td>https://www.bhinneka.com//dell-equallogic-ps66...</td>\n",
       "    </tr>\n",
       "    <tr>\n",
       "      <th>3</th>\n",
       "      <td>HPE MSA 2060 R0Q74A (7.2TB)</td>\n",
       "      <td>Cicilan Rp. 16.583.333/bln</td>\n",
       "      <td>1.990000e+08</td>\n",
       "      <td>https://www.bhinneka.com//hpe-msa-2060-r0q74a-...</td>\n",
       "    </tr>\n",
       "    <tr>\n",
       "      <th>4</th>\n",
       "      <td>HPE Nimble Storage AF40 All Flash Dual Control...</td>\n",
       "      <td>Cicilan Rp. 476.879.583/bln</td>\n",
       "      <td>5.722555e+09</td>\n",
       "      <td>https://www.bhinneka.com//hpe-nimble-storage-a...</td>\n",
       "    </tr>\n",
       "  </tbody>\n",
       "</table>\n",
       "</div>"
      ],
      "text/plain": [
       "                                         Nama_Produk  \\\n",
       "0  FUJIFILM LTO-8 Data Cartridge (12TB - 30TB) wi...   \n",
       "1      HP LTO5 Ultrium RW Bar Code Label Pack Q2011A   \n",
       "2                           DELL EqualLogic PS6610ES   \n",
       "3                        HPE MSA 2060 R0Q74A (7.2TB)   \n",
       "4  HPE Nimble Storage AF40 All Flash Dual Control...   \n",
       "\n",
       "       Cicilan_Produk_Perbulan  Harga_Produk  \\\n",
       "0      Cicilan Rp. 108.250/bln  1.299000e+06   \n",
       "1       Cicilan Rp. 79.833/bln  9.580000e+05   \n",
       "2  Cicilan Rp. 157.712.500/bln  1.892550e+09   \n",
       "3   Cicilan Rp. 16.583.333/bln  1.990000e+08   \n",
       "4  Cicilan Rp. 476.879.583/bln  5.722555e+09   \n",
       "\n",
       "                                         Link_Produk  \n",
       "0  https://www.bhinneka.com//fujifilm-lto-8-data-...  \n",
       "1  https://www.bhinneka.com//hp-lto5-ultrium-rw-b...  \n",
       "2  https://www.bhinneka.com//dell-equallogic-ps66...  \n",
       "3  https://www.bhinneka.com//hpe-msa-2060-r0q74a-...  \n",
       "4  https://www.bhinneka.com//hpe-nimble-storage-a...  "
      ]
     },
     "execution_count": 44,
     "metadata": {},
     "output_type": "execute_result"
    }
   ],
   "source": [
    "# mengambil data dengan menggunakan fungsi head yang dimana defaultnya mengambil 5 data teratas (untuk un-clean data)\n",
    "Data_Produk.head()"
   ]
  },
  {
   "cell_type": "markdown",
   "metadata": {},
   "source": [
    "## 3.4 export data mentahan ke CSV"
   ]
  },
  {
   "cell_type": "code",
   "execution_count": 32,
   "metadata": {},
   "outputs": [],
   "source": [
    "Data_Produk.to_csv('Data_Produk.csv', index=False) \n",
    "# menggunakan parameter index false untuk memastikan kalo indexnya juga tidak ke export"
   ]
  },
  {
   "cell_type": "markdown",
   "metadata": {},
   "source": [
    "## 3.5 Liat structure data"
   ]
  },
  {
   "cell_type": "code",
   "execution_count": 33,
   "metadata": {},
   "outputs": [
    {
     "name": "stdout",
     "output_type": "stream",
     "text": [
      "<class 'pandas.core.frame.DataFrame'>\n",
      "RangeIndex: 120 entries, 0 to 119\n",
      "Data columns (total 4 columns):\n",
      " #   Column                   Non-Null Count  Dtype \n",
      "---  ------                   --------------  ----- \n",
      " 0   Nama_Produk              120 non-null    object\n",
      " 1   Cicilan_Produk_Perbulan  120 non-null    object\n",
      " 2   Harga_Produk             120 non-null    object\n",
      " 3   Link_Produk              120 non-null    object\n",
      "dtypes: object(4)\n",
      "memory usage: 3.9+ KB\n"
     ]
    }
   ],
   "source": [
    "Data_Produk.info()"
   ]
  },
  {
   "cell_type": "markdown",
   "metadata": {},
   "source": [
    "Bisa di lihat bahwa tidak ada missing value sama sekali di tiap column karena jumlahnya 120 untuk tiap kolum\n",
    "jadi tidak perlu di adakan cleansing data untuk missing value"
   ]
  },
  {
   "cell_type": "markdown",
   "metadata": {},
   "source": [
    "# 4. Transform Data"
   ]
  },
  {
   "cell_type": "markdown",
   "metadata": {},
   "source": [
    "## 4.1 Melakukan Cleansing data pada column Cicilan_Produk_Perbulan dan juga perubahan type data"
   ]
  },
  {
   "cell_type": "code",
   "execution_count": null,
   "metadata": {},
   "outputs": [],
   "source": [
    "# di karena kan untuk value di column Cicilan Produk Perbulan ber format 'Rp. 108.250/bln' karena harusnya column ini berbentuk int karena ini adalah harga yang berformat uang\n",
    "# kita perlu memproses datanya menjadi hanya angka (menggunakan str.replace untuk format data dan astype untuk format type data column)\n",
    "Data_Produk['Cicilan_Produk_Perbulan'] = Data_Produk['Cicilan_Produk_Perbulan'].str.replace('Cicilan Rp. ', '')\n",
    "# mengubah value Rp.  dalam value (string) menjadi string kosong\n",
    "Data_Produk['Cicilan_Produk_Perbulan'] = Data_Produk['Cicilan_Produk_Perbulan'].str.replace('/bln', '')\n",
    "# mengubah value /bln  dalam value (string) menjadi string kosong\n",
    "Data_Produk['Cicilan_Produk_Perbulan'] = Data_Produk['Cicilan_Produk_Perbulan'].str.replace('.', '')\n",
    "# mengubah column Cicilan_Produk_Perbulan menjadi float (karena angka bisa jadi int kalo mau)\n",
    "Data_Produk['Cicilan_Produk_Perbulan'] = Data_Produk['Cicilan_Produk_Perbulan'].astype(float)"
   ]
  },
  {
   "cell_type": "markdown",
   "metadata": {},
   "source": [
    "## 4.2  Melakukan perubahan type data pada Harga_Produk  "
   ]
  },
  {
   "cell_type": "code",
   "execution_count": null,
   "metadata": {},
   "outputs": [],
   "source": [
    "# di karenakan untuk harga produk sudah angka semua jadi hanya perlu merubah type column\n",
    "# mengubah column Cicilan_Produk_Perbulan menjadi float (karena angka bisa jadi int kalo mau)\n",
    "Data_Produk['Harga_Produk'] = Data_Produk['Harga_Produk'].astype(float)\n"
   ]
  },
  {
   "cell_type": "markdown",
   "metadata": {},
   "source": [
    "## 4.3 pilih 5 data teratas"
   ]
  },
  {
   "cell_type": "code",
   "execution_count": null,
   "metadata": {},
   "outputs": [
    {
     "data": {
      "text/html": [
       "<div>\n",
       "<style scoped>\n",
       "    .dataframe tbody tr th:only-of-type {\n",
       "        vertical-align: middle;\n",
       "    }\n",
       "\n",
       "    .dataframe tbody tr th {\n",
       "        vertical-align: top;\n",
       "    }\n",
       "\n",
       "    .dataframe thead th {\n",
       "        text-align: right;\n",
       "    }\n",
       "</style>\n",
       "<table border=\"1\" class=\"dataframe\">\n",
       "  <thead>\n",
       "    <tr style=\"text-align: right;\">\n",
       "      <th></th>\n",
       "      <th>Nama_Produk</th>\n",
       "      <th>Cicilan_Produk_Perbulan</th>\n",
       "      <th>Harga_Produk</th>\n",
       "      <th>Link_Produk</th>\n",
       "    </tr>\n",
       "  </thead>\n",
       "  <tbody>\n",
       "    <tr>\n",
       "      <th>0</th>\n",
       "      <td>FUJIFILM LTO-8 Data Cartridge (12TB - 30TB) wi...</td>\n",
       "      <td>108250.0</td>\n",
       "      <td>1.299000e+06</td>\n",
       "      <td>https://www.bhinneka.com//fujifilm-lto-8-data-...</td>\n",
       "    </tr>\n",
       "    <tr>\n",
       "      <th>1</th>\n",
       "      <td>HP LTO5 Ultrium RW Bar Code Label Pack Q2011A</td>\n",
       "      <td>79833.0</td>\n",
       "      <td>9.580000e+05</td>\n",
       "      <td>https://www.bhinneka.com//hp-lto5-ultrium-rw-b...</td>\n",
       "    </tr>\n",
       "    <tr>\n",
       "      <th>2</th>\n",
       "      <td>DELL EqualLogic PS6610ES</td>\n",
       "      <td>157712500.0</td>\n",
       "      <td>1.892550e+09</td>\n",
       "      <td>https://www.bhinneka.com//dell-equallogic-ps66...</td>\n",
       "    </tr>\n",
       "    <tr>\n",
       "      <th>3</th>\n",
       "      <td>HPE MSA 2060 R0Q74A (7.2TB)</td>\n",
       "      <td>16583333.0</td>\n",
       "      <td>1.990000e+08</td>\n",
       "      <td>https://www.bhinneka.com//hpe-msa-2060-r0q74a-...</td>\n",
       "    </tr>\n",
       "    <tr>\n",
       "      <th>4</th>\n",
       "      <td>HPE Nimble Storage AF40 All Flash Dual Control...</td>\n",
       "      <td>476879583.0</td>\n",
       "      <td>5.722555e+09</td>\n",
       "      <td>https://www.bhinneka.com//hpe-nimble-storage-a...</td>\n",
       "    </tr>\n",
       "  </tbody>\n",
       "</table>\n",
       "</div>"
      ],
      "text/plain": [
       "                                         Nama_Produk  Cicilan_Produk_Perbulan  \\\n",
       "0  FUJIFILM LTO-8 Data Cartridge (12TB - 30TB) wi...                 108250.0   \n",
       "1      HP LTO5 Ultrium RW Bar Code Label Pack Q2011A                  79833.0   \n",
       "2                           DELL EqualLogic PS6610ES              157712500.0   \n",
       "3                        HPE MSA 2060 R0Q74A (7.2TB)               16583333.0   \n",
       "4  HPE Nimble Storage AF40 All Flash Dual Control...              476879583.0   \n",
       "\n",
       "   Harga_Produk                                        Link_Produk  \n",
       "0  1.299000e+06  https://www.bhinneka.com//fujifilm-lto-8-data-...  \n",
       "1  9.580000e+05  https://www.bhinneka.com//hp-lto5-ultrium-rw-b...  \n",
       "2  1.892550e+09  https://www.bhinneka.com//dell-equallogic-ps66...  \n",
       "3  1.990000e+08  https://www.bhinneka.com//hpe-msa-2060-r0q74a-...  \n",
       "4  5.722555e+09  https://www.bhinneka.com//hpe-nimble-storage-a...  "
      ]
     },
     "execution_count": 42,
     "metadata": {},
     "output_type": "execute_result"
    }
   ],
   "source": [
    "# mengambil data dengan menggunakan fungsi head yang dimana defaultnya mengambil 5 data teratas (untuk clean data)\n",
    "Data_Produk.head()"
   ]
  },
  {
   "cell_type": "markdown",
   "metadata": {},
   "source": [
    "## 4.4 Check Structure data abis di clenasing "
   ]
  },
  {
   "cell_type": "code",
   "execution_count": 41,
   "metadata": {},
   "outputs": [
    {
     "name": "stdout",
     "output_type": "stream",
     "text": [
      "<class 'pandas.core.frame.DataFrame'>\n",
      "RangeIndex: 120 entries, 0 to 119\n",
      "Data columns (total 4 columns):\n",
      " #   Column                   Non-Null Count  Dtype  \n",
      "---  ------                   --------------  -----  \n",
      " 0   Nama_Produk              120 non-null    object \n",
      " 1   Cicilan_Produk_Perbulan  120 non-null    float64\n",
      " 2   Harga_Produk             120 non-null    float64\n",
      " 3   Link_Produk              120 non-null    object \n",
      "dtypes: float64(2), object(2)\n",
      "memory usage: 3.9+ KB\n"
     ]
    },
    {
     "data": {
      "text/html": [
       "<div>\n",
       "<style scoped>\n",
       "    .dataframe tbody tr th:only-of-type {\n",
       "        vertical-align: middle;\n",
       "    }\n",
       "\n",
       "    .dataframe tbody tr th {\n",
       "        vertical-align: top;\n",
       "    }\n",
       "\n",
       "    .dataframe thead th {\n",
       "        text-align: right;\n",
       "    }\n",
       "</style>\n",
       "<table border=\"1\" class=\"dataframe\">\n",
       "  <thead>\n",
       "    <tr style=\"text-align: right;\">\n",
       "      <th></th>\n",
       "      <th>Cicilan_Produk_Perbulan</th>\n",
       "      <th>Harga_Produk</th>\n",
       "    </tr>\n",
       "  </thead>\n",
       "  <tbody>\n",
       "    <tr>\n",
       "      <th>count</th>\n",
       "      <td>1.200000e+02</td>\n",
       "      <td>1.200000e+02</td>\n",
       "    </tr>\n",
       "    <tr>\n",
       "      <th>mean</th>\n",
       "      <td>7.015280e+07</td>\n",
       "      <td>8.418336e+08</td>\n",
       "    </tr>\n",
       "    <tr>\n",
       "      <th>std</th>\n",
       "      <td>1.867758e+08</td>\n",
       "      <td>2.241309e+09</td>\n",
       "    </tr>\n",
       "    <tr>\n",
       "      <th>min</th>\n",
       "      <td>4.575000e+04</td>\n",
       "      <td>5.490000e+05</td>\n",
       "    </tr>\n",
       "    <tr>\n",
       "      <th>25%</th>\n",
       "      <td>1.384875e+06</td>\n",
       "      <td>1.661850e+07</td>\n",
       "    </tr>\n",
       "    <tr>\n",
       "      <th>50%</th>\n",
       "      <td>3.588334e+06</td>\n",
       "      <td>4.306000e+07</td>\n",
       "    </tr>\n",
       "    <tr>\n",
       "      <th>75%</th>\n",
       "      <td>1.246563e+07</td>\n",
       "      <td>1.495875e+08</td>\n",
       "    </tr>\n",
       "    <tr>\n",
       "      <th>max</th>\n",
       "      <td>1.165559e+09</td>\n",
       "      <td>1.398670e+10</td>\n",
       "    </tr>\n",
       "  </tbody>\n",
       "</table>\n",
       "</div>"
      ],
      "text/plain": [
       "       Cicilan_Produk_Perbulan  Harga_Produk\n",
       "count             1.200000e+02  1.200000e+02\n",
       "mean              7.015280e+07  8.418336e+08\n",
       "std               1.867758e+08  2.241309e+09\n",
       "min               4.575000e+04  5.490000e+05\n",
       "25%               1.384875e+06  1.661850e+07\n",
       "50%               3.588334e+06  4.306000e+07\n",
       "75%               1.246563e+07  1.495875e+08\n",
       "max               1.165559e+09  1.398670e+10"
      ]
     },
     "execution_count": 41,
     "metadata": {},
     "output_type": "execute_result"
    }
   ],
   "source": [
    "Data_Produk.info()\n",
    "Data_Produk.describe()"
   ]
  },
  {
   "cell_type": "markdown",
   "metadata": {},
   "source": [
    "Bisa di lihat bahwa type data untuk column Cicilan_Produk_Perbulan dan Harga_Produk sudah berubaj jadi float dan pas di describe bisa di lihat unutk count, mean, min dll untuk data yang sudah kita ubah"
   ]
  },
  {
   "cell_type": "markdown",
   "metadata": {},
   "source": [
    "## 4.4 Import table yang sudah di cleansing"
   ]
  },
  {
   "cell_type": "code",
   "execution_count": null,
   "metadata": {},
   "outputs": [],
   "source": [
    "Data_Produk.to_csv('Data_Produk_Storage_Final.csv',index=False)\n",
    "# menggunakan parameter index false untuk memastikan kalo indexnya juga tidak ke export"
   ]
  },
  {
   "cell_type": "markdown",
   "metadata": {},
   "source": [
    "# 5 Load data"
   ]
  },
  {
   "cell_type": "markdown",
   "metadata": {},
   "source": [
    "``` sql\n",
    "\n",
    "-- Create Database\n",
    "\n",
    "CREATE DATABASE Bhinneka_DB;\n",
    "\n",
    "-- Create Table Sesuai dengan data yang kita ambil\n",
    "\n",
    "CREATE Table Produk\n",
    "(\n",
    "\tPK_Produk SERIAL PRIMARY KEY, \n",
    "\t-- Tambahan Column PK_Produk untuk jadi primary keynya (supaya tiap data unik) dan pake serial supaya auto increment (jadi data waktu di insert langsung terisi sendiri)\n",
    "\tNama_Produk TEXT,\n",
    "\tCicilan_Produk_Perbulan NUMERIC,\n",
    "\tHarga_Produk NUMERIC,\n",
    "\tLink_Produk TEXT\n",
    ");\n",
    "\n",
    "-- Import data yang baru saja kita ambil ke dalam table Produk\n",
    "\n",
    "COPY Produk(Nama_Produk, Cicilan_Produk_Perbulan, Harga_Produk, Link_Produk)\n",
    "FROM 'D:\\Hactive8\\Phase 0\\W4\\Milestone\\p0-coda006-rmt-m1-Gallahad12\\Data_Produk_Storage_Final.csv'\n",
    "DELIMITER ','\n",
    "CSV HEADER;\n",
    "\n",
    "-- Show table produk untuk memastikan kalau datanya memang sudah di import\n",
    "\n",
    "SELECT *\n",
    "from produk;\n",
    "\n",
    "```"
   ]
  }
 ],
 "metadata": {
  "kernelspec": {
   "display_name": "base",
   "language": "python",
   "name": "python3"
  },
  "language_info": {
   "codemirror_mode": {
    "name": "ipython",
    "version": 3
   },
   "file_extension": ".py",
   "mimetype": "text/x-python",
   "name": "python",
   "nbconvert_exporter": "python",
   "pygments_lexer": "ipython3",
   "version": "3.12.7"
  }
 },
 "nbformat": 4,
 "nbformat_minor": 2
}
